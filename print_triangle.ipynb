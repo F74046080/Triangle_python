{
 "cells": [
  {
   "cell_type": "markdown",
   "metadata": {},
   "source": [
    "# 三角形(Triangle)"
   ]
  },
  {
   "cell_type": "code",
   "execution_count": 1,
   "metadata": {},
   "outputs": [
    {
     "name": "stdout",
     "output_type": "stream",
     "text": [
      "*****\n",
      "****\n",
      "***\n",
      "**\n",
      "*\n"
     ]
    }
   ],
   "source": [
    "i = 0\n",
    "j = 0\n",
    "n = 5      # control the lenght of side\n",
    "while i < n:\n",
    "    while j < n:\n",
    "        print('*',end='')\n",
    "        j += 1\n",
    "    i += 1\n",
    "    j = i\n",
    "    print('') # new line"
   ]
  },
  {
   "cell_type": "code",
   "execution_count": 2,
   "metadata": {},
   "outputs": [
    {
     "name": "stdout",
     "output_type": "stream",
     "text": [
      "******\n",
      " *****\n",
      "  ****\n",
      "   ***\n",
      "    **\n",
      "     *\n"
     ]
    }
   ],
   "source": [
    "i = 0\n",
    "j = 0\n",
    "n = 6\n",
    "while i < n:\n",
    "    while j < n:\n",
    "        if j >= i:\n",
    "            print('*', end='')\n",
    "        else:\n",
    "            print(' ', end='')\n",
    "        j += 1\n",
    "    i += 1\n",
    "    j = 0\n",
    "    print('') # print換行"
   ]
  },
  {
   "cell_type": "markdown",
   "metadata": {},
   "source": [
    "# 正三角形(Regular Triangle)"
   ]
  },
  {
   "cell_type": "code",
   "execution_count": 3,
   "metadata": {},
   "outputs": [
    {
     "name": "stdout",
     "output_type": "stream",
     "text": [
      "Please enter the length of side of the regular triangle: 5\n",
      "* * * * * \n",
      " * * * * \n",
      "  * * * \n",
      "   * * \n",
      "    * \n",
      "Please enter the length of side of the regular triangle: 6\n",
      "* * * * * * \n",
      " * * * * * \n",
      "  * * * * \n",
      "   * * * \n",
      "    * * \n",
      "     * \n",
      "Please enter the length of side of the regular triangle: q\n"
     ]
    }
   ],
   "source": [
    "while True:\n",
    "    i = 0\n",
    "    j = 0\n",
    "    n = input(\"Please enter the length of side of the regular triangle: \")\n",
    "    if n == \"q\":\n",
    "        break\n",
    "    else:\n",
    "        n = int(n)\n",
    "    for i in range(n):\n",
    "        for k in range(i):\n",
    "            print(\" \", end='')\n",
    "\n",
    "        for j in range(n-i):\n",
    "            print(\"*\", end='')\n",
    "            print(\" \", end='')\n",
    "        print()"
   ]
  },
  {
   "cell_type": "markdown",
   "metadata": {},
   "source": [
    "# 巴斯卡三角形(Pascal triangle)"
   ]
  },
  {
   "cell_type": "markdown",
   "metadata": {},
   "source": [
    "![](https://i.imgur.com/F67PobU.png)\n",
    "from https://en.wikipedia.org/wiki/Pascal%27s_triangle"
   ]
  },
  {
   "cell_type": "code",
   "execution_count": 4,
   "metadata": {},
   "outputs": [],
   "source": [
    "def factorial(n):\n",
    "    if n == 1 or n == 0:\n",
    "        return 1\n",
    "    return n * factorial((n-1))"
   ]
  },
  {
   "cell_type": "code",
   "execution_count": 5,
   "metadata": {},
   "outputs": [],
   "source": [
    "def combination(n, r):\n",
    "    if n == 0:\n",
    "        return 1\n",
    "    return int(factorial(n)/(factorial(r)*factorial(n-r)))"
   ]
  },
  {
   "cell_type": "code",
   "execution_count": 6,
   "metadata": {},
   "outputs": [
    {
     "name": "stdout",
     "output_type": "stream",
     "text": [
      "                    1   \n",
      "                  1   1   \n",
      "                1   2   1   \n",
      "              1   3   3   1   \n",
      "            1   4   6   4   1   \n",
      "          1   5   10  10  5   1   \n",
      "        1   6   15  20  15  6   1   \n",
      "      1   7   21  35  35  21  7   1   \n",
      "    1   8   28  56  70  56  28  8   1   \n",
      "  1   9   36  84  126 126 84  36  9   1   \n"
     ]
    }
   ],
   "source": [
    "n = 10\n",
    "for i in range(0, n):\n",
    "    for k in range(n-i, 0, -1):\n",
    "        print(\" \".ljust(2), end='')\n",
    "    for j in range(0, i+1):\n",
    "        print(str(combination(i, j)).ljust(4), end='')     \n",
    "    print('')"
   ]
  }
 ],
 "metadata": {
  "kernelspec": {
   "display_name": "Python 3",
   "language": "python",
   "name": "python3"
  },
  "language_info": {
   "codemirror_mode": {
    "name": "ipython",
    "version": 3
   },
   "file_extension": ".py",
   "mimetype": "text/x-python",
   "name": "python",
   "nbconvert_exporter": "python",
   "pygments_lexer": "ipython3",
   "version": "3.6.5"
  }
 },
 "nbformat": 4,
 "nbformat_minor": 2
}
